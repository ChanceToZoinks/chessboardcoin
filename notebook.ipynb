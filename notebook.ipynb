{
 "cells": [
  {
   "cell_type": "code",
   "execution_count": 1,
   "metadata": {},
   "outputs": [],
   "source": [
    "import chessgame\n",
    "B = chessgame.Board()"
   ]
  },
  {
   "cell_type": "markdown",
   "metadata": {},
   "source": [
    "# Solving the chessboard coin game"
   ]
  },
  {
   "cell_type": "markdown",
   "metadata": {},
   "source": [
    "## Regions and their duals\n",
    "We can divide the board into sections by creating a sort of mask using powers of 2. We denote these sections using a two-tuple (x, y) where x is the power 2 will be raised to, called the *region*, and y is called the *side*. A side of 0 indicates the region is *normal* while a side of 1 indicates the region is *dual*. We will occasionally refer to a region without reference to its side or its normal/dual-ness when it is convenient and unlikely to cause confusion. Every region has a dual, and the two are independent of each other. The dual of a dual is the region. Each region and its dual together cover the whole space (the chessboard).\n",
    "\n",
    "The following are some examples of (region, side) pairs from a randomly generated chess board. A 0 indicates a heads on the space, while a 1 indicates a tails."
   ]
  },
  {
   "cell_type": "markdown",
   "metadata": {},
   "source": [
    "### The whole board"
   ]
  },
  {
   "cell_type": "code",
   "execution_count": 2,
   "metadata": {},
   "outputs": [
    {
     "name": "stdout",
     "output_type": "stream",
     "text": [
      "0  1  1  1  0  1  0  0  \n",
      "1  0  0  0  1  1  0  1  \n",
      "0  0  0  1  1  0  0  0  \n",
      "1  1  1  1  1  0  1  0  \n",
      "0  1  1  1  0  0  0  1  \n",
      "1  1  0  0  1  0  0  0  \n",
      "1  0  0  0  1  0  0  1  \n",
      "0  1  0  1  1  0  1  1  \n"
     ]
    }
   ],
   "source": [
    "B.show_board()"
   ]
  },
  {
   "cell_type": "markdown",
   "metadata": {},
   "source": [
    "#### Region (0, 0)"
   ]
  },
  {
   "cell_type": "code",
   "execution_count": 3,
   "metadata": {},
   "outputs": [
    {
     "name": "stdout",
     "output_type": "stream",
     "text": [
      "region0, parity=1\n",
      "0  -  1  -  0  -  0  -  \n",
      "1  -  0  -  1  -  0  -  \n",
      "0  -  0  -  1  -  0  -  \n",
      "1  -  1  -  1  -  1  -  \n",
      "0  -  1  -  0  -  0  -  \n",
      "1  -  0  -  1  -  0  -  \n",
      "1  -  0  -  1  -  0  -  \n",
      "0  -  0  -  1  -  1  -  \n"
     ]
    }
   ],
   "source": [
    "B.show_region(0,0)"
   ]
  },
  {
   "cell_type": "markdown",
   "metadata": {},
   "source": [
    "#### Region (0, 1)"
   ]
  },
  {
   "cell_type": "code",
   "execution_count": 4,
   "metadata": {},
   "outputs": [
    {
     "name": "stdout",
     "output_type": "stream",
     "text": [
      "region0, parity=0\n",
      "-  1  -  1  -  1  -  0  \n",
      "-  0  -  0  -  1  -  1  \n",
      "-  0  -  1  -  0  -  0  \n",
      "-  1  -  1  -  0  -  0  \n",
      "-  1  -  1  -  0  -  1  \n",
      "-  1  -  0  -  0  -  0  \n",
      "-  0  -  0  -  0  -  1  \n",
      "-  1  -  1  -  0  -  1  \n"
     ]
    }
   ],
   "source": [
    "B.show_region(0,1)"
   ]
  },
  {
   "cell_type": "markdown",
   "metadata": {},
   "source": [
    "#### Region (2, 0)"
   ]
  },
  {
   "cell_type": "code",
   "execution_count": 5,
   "metadata": {},
   "outputs": [
    {
     "name": "stdout",
     "output_type": "stream",
     "text": [
      "region2, parity=1\n",
      "0  1  1  1  -  -  -  -  \n",
      "1  0  0  0  -  -  -  -  \n",
      "0  0  0  1  -  -  -  -  \n",
      "1  1  1  1  -  -  -  -  \n",
      "0  1  1  1  -  -  -  -  \n",
      "1  1  0  0  -  -  -  -  \n",
      "1  0  0  0  -  -  -  -  \n",
      "0  1  0  1  -  -  -  -  \n"
     ]
    }
   ],
   "source": [
    "B.show_region(2,0)"
   ]
  },
  {
   "cell_type": "markdown",
   "metadata": {},
   "source": [
    "#### Region (3, 0)"
   ]
  },
  {
   "cell_type": "code",
   "execution_count": 6,
   "metadata": {},
   "outputs": [
    {
     "name": "stdout",
     "output_type": "stream",
     "text": [
      "region3, parity=1\n",
      "0  1  1  1  0  1  0  0  \n",
      "-  -  -  -  -  -  -  -  \n",
      "0  0  0  1  1  0  0  0  \n",
      "-  -  -  -  -  -  -  -  \n",
      "0  1  1  1  0  0  0  1  \n",
      "-  -  -  -  -  -  -  -  \n",
      "1  0  0  0  1  0  0  1  \n",
      "-  -  -  -  -  -  -  -  \n"
     ]
    }
   ],
   "source": [
    "B.show_region(3, 0)"
   ]
  },
  {
   "cell_type": "markdown",
   "metadata": {},
   "source": [
    "#### Region (4, 1)"
   ]
  },
  {
   "cell_type": "code",
   "execution_count": 7,
   "metadata": {},
   "outputs": [
    {
     "name": "stdout",
     "output_type": "stream",
     "text": [
      "region4, parity=0\n",
      "-  -  -  -  -  -  -  -  \n",
      "-  -  -  -  -  -  -  -  \n",
      "0  0  0  1  1  0  0  0  \n",
      "1  1  1  1  1  0  1  0  \n",
      "-  -  -  -  -  -  -  -  \n",
      "-  -  -  -  -  -  -  -  \n",
      "1  0  0  0  1  0  0  1  \n",
      "0  1  0  1  1  0  1  1  \n"
     ]
    }
   ],
   "source": [
    "B.show_region(4, 1)"
   ]
  },
  {
   "cell_type": "markdown",
   "metadata": {},
   "source": [
    "## Parity\n",
    "A chess board has 2^6 = 64 squares on it. Thus we need a way to express 6 bits of information to be able to accurately communicate the location of the hidden key on the board. A coin can only express a single bit of information on its own - either heads or tails. By choosing {0, 1, 2, 3, 4, 5} as our regions we can divide the board into 6 regions, and their associated duals, such that exactly 32 squares are in each region and exactly 16 squares are in the intersection of any pair of regions. Every region, and therefore every dual, has a number associated to it called its *parity*. By our convention the parity of a region is the sum of the number of heads in the region modulo 2, or in the other words it is either 0 or 1 indicating that the number of heads in the region is even or odd respectively. By the law of the excluded middle the parity of a region always changes if a coin in that region is flipped. Therefore, flipping the coin flips the parity of any regions and/or duals the coin is in, allowing us to communicate 6 bits of information with a single coin flip."
   ]
  },
  {
   "cell_type": "markdown",
   "metadata": {},
   "source": [
    "#### Example: flipping a coin changes parity in (0,0) and (3,0)"
   ]
  },
  {
   "cell_type": "code",
   "execution_count": 8,
   "metadata": {},
   "outputs": [
    {
     "name": "stdout",
     "output_type": "stream",
     "text": [
      "region0, parity=1\n",
      "0  -  1  -  0  -  0  -  \n",
      "1  -  0  -  1  -  0  -  \n",
      "0  -  0  -  1  -  0  -  \n",
      "1  -  1  -  1  -  1  -  \n",
      "0  -  1  -  0  -  0  -  \n",
      "1  -  0  -  1  -  0  -  \n",
      "1  -  0  -  1  -  0  -  \n",
      "0  -  0  -  1  -  1  -  \n",
      "region3, parity=1\n",
      "0  1  1  1  0  1  0  0  \n",
      "-  -  -  -  -  -  -  -  \n",
      "0  0  0  1  1  0  0  0  \n",
      "-  -  -  -  -  -  -  -  \n",
      "0  1  1  1  0  0  0  1  \n",
      "-  -  -  -  -  -  -  -  \n",
      "1  0  0  0  1  0  0  1  \n",
      "-  -  -  -  -  -  -  -  \n"
     ]
    }
   ],
   "source": [
    "B.show_region(0,0)\n",
    "B.show_region(3,0)"
   ]
  },
  {
   "cell_type": "code",
   "execution_count": 9,
   "metadata": {},
   "outputs": [
    {
     "name": "stdout",
     "output_type": "stream",
     "text": [
      "region0, parity=0\n",
      "1  -  1  -  0  -  0  -  \n",
      "1  -  0  -  1  -  0  -  \n",
      "0  -  0  -  1  -  0  -  \n",
      "1  -  1  -  1  -  1  -  \n",
      "0  -  1  -  0  -  0  -  \n",
      "1  -  0  -  1  -  0  -  \n",
      "1  -  0  -  1  -  0  -  \n",
      "0  -  0  -  1  -  1  -  \n",
      "region3, parity=0\n",
      "1  1  1  1  0  1  0  0  \n",
      "-  -  -  -  -  -  -  -  \n",
      "0  0  0  1  1  0  0  0  \n",
      "-  -  -  -  -  -  -  -  \n",
      "0  1  1  1  0  0  0  1  \n",
      "-  -  -  -  -  -  -  -  \n",
      "1  0  0  0  1  0  0  1  \n",
      "-  -  -  -  -  -  -  -  \n"
     ]
    }
   ],
   "source": [
    "B.flip_coin(0,0)\n",
    "B.show_region(0,0)\n",
    "B.show_region(3,0)"
   ]
  },
  {
   "cell_type": "markdown",
   "metadata": {},
   "source": [
    "## Strategy\n",
    "With the above in mind it is now possible to devise a strategy for both encoding and decoding that will allow us to beat the jailer 100% of the time no matter what actions they take.\n",
    "\n",
    "First the players needs to agree to face the board from the same direction. In devising the following strategy it was assumed the board was approached from the perspective of \"white\" in a normal chess game and the top-left square was assumed to be square 0 (coordinates (0, 0)) while the bottom right was square 63 (coordinates (7, 7)). Really the players just need a consistent way to identify each square; the actual geometry of the board is completely irrelevant as long as their are 64 \"squares,\" and they can be identified by both players. One can easily imagine that instead of a chessboard there were just 64 squares in a line maybe with numeric markings on them indicating which square was which, or perhaps every second square in every second row on the chessboard is swapped with the one in the row beneath it starting with the first (See [Example: Strategy is invariant under geometric transformations](#example-strategy-is-invariant-under-geometric-transformations)).\n",
    "\n",
    "Next persons A and B should agree on is that if the key is under a coin in region (0,0) then the parity of (0,0) should be 0. If (0,1) holds the key then (0,0) should have a parity of 1. Repeat this for (1,0)/(1,1), (2,0)/(2,1), .... This way it will always be possible to signal which side of a region the key is in by either flipping the parity of the normal for that region or leaving it alone."
   ]
  },
  {
   "cell_type": "markdown",
   "metadata": {},
   "source": [
    "### Encoding strategy for person A (the flipper)\n",
    "0. Create a list of regions called R. \n",
    "1. Check each (region, side) pair defined in the strategy to see if the key square is in that region, and compute the parity of each normal region. If the key square is in the noraml region go to 2, else go to 3.\n",
    "2. We are in the normal. Check the parity of the normal against the parity in the strategy. If the parity matches do nothing and go to 4, else go to 5.\n",
    "3. We are in the dual. Check the parity of the normal against the opposite of the parity in the strategy e.g. (~parity)mod2 which maps 0->1, 1->0. If the parity matches the opposite parity do nothing and go to 4, else go to 5.\n",
    "4. The parity of the normal is correctly identifying that the key is in the either the normal or the dual depending on whether it is even or odd respectively. So we need to make the change to the dual to avoid changing the parity of the normal; add the dual to the list R. If more (region, side) pairs need to be checked return to 1. Else go to 6.\n",
    "5. The parity of the normal is not correctly identifying that the key is in the either the normal or the dual depending on whether it is even or odd respectively. So we need to make the change to the normal; add the normal to the list R. If more (region, side) pairs need to be checked return to 1. Else go to 6.\n",
    "6. The list R should now contain 6 elements; each being either a normal or a dual. Compute the intersection of all of the regions in the list R, the result should be a single square. This is the square you flip."
   ]
  },
  {
   "cell_type": "markdown",
   "metadata": {},
   "source": [
    "### Decoding strategy for person B (the finder)\n",
    "0. Create a list of regions called R.\n",
    "1. Compute the parity of each normal region. If the parity is even go to 2, else 3.\n",
    "2. The parity of the normal is even which indicates that the key is in that normal of that region; add the normal to the list R. If more regions remain to check return to 1 else go to 4.\n",
    "3. The parity of the normal is odd which indicates that the key is in the dual of that region; add the dual to the list R. If more regions remain to check return to 1 else go to 4.\n",
    "4. The list R should now contain 6 elements; each being either a normal region or a dual region. Compute the intersection of all of the regions in the list R, the result should be a single square. This is the key square."
   ]
  },
  {
   "cell_type": "markdown",
   "metadata": {},
   "source": [
    "#### Example: Strategy is invariant under geometric transformations"
   ]
  },
  {
   "cell_type": "code",
   "execution_count": 10,
   "metadata": {},
   "outputs": [
    {
     "name": "stdout",
     "output_type": "stream",
     "text": [
      "0  1  2  3  4  5  6  7  \n",
      "8  9  10 11 12 13 14 15 \n",
      "16 17 18 19 20 21 22 23 \n",
      "24 25 26 27 28 29 30 31 \n",
      "32 33 34 35 36 37 38 39 \n",
      "40 41 42 43 44 45 46 47 \n",
      "48 49 50 51 52 53 54 55 \n",
      "56 57 58 59 60 61 62 63 \n",
      "side0: 000001\n",
      "side1: 000001\n"
     ]
    }
   ],
   "source": [
    "B.show_board(True)\n",
    "B.show_region_parity_vectors()"
   ]
  },
  {
   "cell_type": "code",
   "execution_count": 11,
   "metadata": {},
   "outputs": [
    {
     "name": "stdout",
     "output_type": "stream",
     "text": [
      "0  9  2  11 4  13 6  15 \n",
      "8  1  10 3  12 5  14 7  \n",
      "16 25 18 27 20 29 22 31 \n",
      "24 17 26 19 28 21 30 23 \n",
      "32 41 34 43 36 45 38 47 \n",
      "40 33 42 35 44 37 46 39 \n",
      "48 57 50 59 52 61 54 63 \n",
      "56 49 58 51 60 53 62 55 \n",
      "region3, parity=0\n",
      "1  -  1  -  0  -  0  -  \n",
      "-  1  -  1  -  1  -  0  \n",
      "0  -  0  -  1  -  0  -  \n",
      "-  0  -  1  -  0  -  0  \n",
      "0  -  1  -  0  -  0  -  \n",
      "-  1  -  1  -  0  -  1  \n",
      "1  -  0  -  1  -  0  -  \n",
      "-  0  -  0  -  0  -  1  \n",
      "side0: 000001\n",
      "side1: 000001\n"
     ]
    }
   ],
   "source": [
    "B.swap_board(2)\n",
    "B.show_region(3,0)\n",
    "B.show_region_parity_vectors()"
   ]
  }
 ],
 "metadata": {
  "interpreter": {
   "hash": "79aaeb94e518099389d4852fe724a70eedecead5aeb4b48b5ed4ef8c0353f66c"
  },
  "kernelspec": {
   "display_name": "Python 3.8.10 ('chessboard_coin_venv': venv)",
   "language": "python",
   "name": "python3"
  },
  "language_info": {
   "codemirror_mode": {
    "name": "ipython",
    "version": 3
   },
   "file_extension": ".py",
   "mimetype": "text/x-python",
   "name": "python",
   "nbconvert_exporter": "python",
   "pygments_lexer": "ipython3",
   "version": "3.8.10"
  },
  "orig_nbformat": 4
 },
 "nbformat": 4,
 "nbformat_minor": 2
}
