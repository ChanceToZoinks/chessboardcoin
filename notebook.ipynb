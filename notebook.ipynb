{
 "cells": [
  {
   "cell_type": "code",
   "execution_count": 21,
   "metadata": {},
   "outputs": [],
   "source": [
    "import chessgame\n",
    "B = chessgame.Board()"
   ]
  },
  {
   "cell_type": "markdown",
   "metadata": {},
   "source": [
    "# Solving the chessboard coin game"
   ]
  },
  {
   "cell_type": "markdown",
   "metadata": {},
   "source": [
    "## Regions and their duals\n",
    "We can divide the board into sections by creating a sort of mask using powers of 2. We denote these sections using a two-tuple (x, y) where x is the power 2 will be raised to, called the *region*, and y is called the *side*. A side of 0 indicates the region is *normal* while a side of 1 indicates the region is *dual*. We will occasionally refer to a normal region or a section as just a region when it is convenient and unlikely to cause confusion. Every region has a dual, and the two are independent of each other. Each region and its dual together cover the whole space (the chessboard).\n",
    "\n",
    "The following are some examples of (region, side) pairs from a randomly generated chess board. A 0 indicates a heads on the space, while a 1 indicates a tails."
   ]
  },
  {
   "cell_type": "markdown",
   "metadata": {},
   "source": [
    "#### Region (0, 0)"
   ]
  },
  {
   "cell_type": "code",
   "execution_count": 22,
   "metadata": {},
   "outputs": [
    {
     "name": "stdout",
     "output_type": "stream",
     "text": [
      "region0, parity=1\n",
      "1 - 0 - 1 - 0 - \n",
      "1 - 0 - 1 - 1 - \n",
      "0 - 0 - 1 - 0 - \n",
      "0 - 1 - 1 - 0 - \n",
      "1 - 1 - 1 - 1 - \n",
      "0 - 0 - 1 - 1 - \n",
      "0 - 1 - 0 - 1 - \n",
      "1 - 1 - 1 - 0 - \n"
     ]
    }
   ],
   "source": [
    "B.show_region(0,0)"
   ]
  },
  {
   "cell_type": "markdown",
   "metadata": {},
   "source": [
    "#### Region (0, 1)"
   ]
  },
  {
   "cell_type": "code",
   "execution_count": 23,
   "metadata": {},
   "outputs": [
    {
     "name": "stdout",
     "output_type": "stream",
     "text": [
      "region0, parity=1\n",
      "- 0 - 0 - 0 - 0 \n",
      "- 0 - 1 - 1 - 0 \n",
      "- 1 - 1 - 1 - 0 \n",
      "- 0 - 0 - 0 - 1 \n",
      "- 1 - 1 - 1 - 1 \n",
      "- 1 - 0 - 0 - 1 \n",
      "- 0 - 0 - 1 - 1 \n",
      "- 0 - 1 - 0 - 0 \n"
     ]
    }
   ],
   "source": [
    "B.show_region(0,1)"
   ]
  },
  {
   "cell_type": "markdown",
   "metadata": {},
   "source": [
    "#### Region (2, 0)"
   ]
  },
  {
   "cell_type": "code",
   "execution_count": 24,
   "metadata": {},
   "outputs": [
    {
     "name": "stdout",
     "output_type": "stream",
     "text": [
      "region2, parity=1\n",
      "1 0 0 0 - - - - \n",
      "1 0 0 1 - - - - \n",
      "0 1 0 1 - - - - \n",
      "0 0 1 0 - - - - \n",
      "1 1 1 1 - - - - \n",
      "0 1 0 0 - - - - \n",
      "0 0 1 0 - - - - \n",
      "1 0 1 1 - - - - \n"
     ]
    }
   ],
   "source": [
    "B.show_region(2,0)"
   ]
  },
  {
   "cell_type": "markdown",
   "metadata": {},
   "source": [
    "#### Region (3, 0)"
   ]
  },
  {
   "cell_type": "code",
   "execution_count": 25,
   "metadata": {},
   "outputs": [
    {
     "name": "stdout",
     "output_type": "stream",
     "text": [
      "region3, parity=0\n",
      "1 0 0 0 1 0 0 0 \n",
      "- - - - - - - - \n",
      "0 1 0 1 1 1 0 0 \n",
      "- - - - - - - - \n",
      "1 1 1 1 1 1 1 1 \n",
      "- - - - - - - - \n",
      "0 0 1 0 0 1 1 1 \n",
      "- - - - - - - - \n"
     ]
    }
   ],
   "source": [
    "B.show_region(3, 0)"
   ]
  },
  {
   "cell_type": "markdown",
   "metadata": {},
   "source": [
    "#### Region (4, 1)"
   ]
  },
  {
   "cell_type": "code",
   "execution_count": 26,
   "metadata": {},
   "outputs": [
    {
     "name": "stdout",
     "output_type": "stream",
     "text": [
      "region4, parity=1\n",
      "- - - - - - - - \n",
      "- - - - - - - - \n",
      "0 1 0 1 1 1 0 0 \n",
      "0 0 1 0 1 0 0 1 \n",
      "- - - - - - - - \n",
      "- - - - - - - - \n",
      "0 0 1 0 0 1 1 1 \n",
      "1 0 1 1 1 0 0 0 \n"
     ]
    }
   ],
   "source": [
    "B.show_region(4, 1)"
   ]
  },
  {
   "cell_type": "markdown",
   "metadata": {},
   "source": [
    "## Parity\n",
    "A chess board has 2^6 = 64 squares on it. Thus we need a way to express 6 bits of information to be able to accurately communicate the location of the hidden key on the board. A coin can only express a single bit of information on its own - either heads or tails. By choosing {0, 1, 2, 3, 4, 5} as our regions we can divide the board into 6 regions, and their associated duals, such that exactly 32 squares are in each region and exactly 16 squares are in the intersection of any pair of regions. Every region, and therefore every dual, has a number associated to it called its *parity*. By our convention the parity of a region is the sum of the number of heads in the region modulo 2, or in the other words it is either 0 or 1 indicating that the number of heads in the region is even or odd respectively. By the law of the excluded middle the parity of a region always changes if a coin in that region is flipped. Therefore, flipping the coin flips the parity of any regions and/or duals the coin is in, allowing us to communicate 6 bits of information with a single coin flip."
   ]
  },
  {
   "cell_type": "markdown",
   "metadata": {},
   "source": [
    "#### Example flipping a coin changes parity in (0,0) and (3,0)"
   ]
  },
  {
   "cell_type": "code",
   "execution_count": 28,
   "metadata": {},
   "outputs": [
    {
     "name": "stdout",
     "output_type": "stream",
     "text": [
      "region0, parity=1\n",
      "1 - 0 - 1 - 0 - \n",
      "1 - 0 - 1 - 1 - \n",
      "0 - 0 - 1 - 0 - \n",
      "0 - 1 - 1 - 0 - \n",
      "1 - 1 - 1 - 1 - \n",
      "0 - 0 - 1 - 1 - \n",
      "0 - 1 - 0 - 1 - \n",
      "1 - 1 - 1 - 0 - \n",
      "region3, parity=0\n",
      "1 0 0 0 1 0 0 0 \n",
      "- - - - - - - - \n",
      "0 1 0 1 1 1 0 0 \n",
      "- - - - - - - - \n",
      "1 1 1 1 1 1 1 1 \n",
      "- - - - - - - - \n",
      "0 0 1 0 0 1 1 1 \n",
      "- - - - - - - - \n"
     ]
    }
   ],
   "source": [
    "B.show_region(0,0)\n",
    "B.show_region(3,0)"
   ]
  },
  {
   "cell_type": "code",
   "execution_count": 29,
   "metadata": {},
   "outputs": [
    {
     "name": "stdout",
     "output_type": "stream",
     "text": [
      "region0, parity=0\n",
      "0 - 0 - 1 - 0 - \n",
      "1 - 0 - 1 - 1 - \n",
      "0 - 0 - 1 - 0 - \n",
      "0 - 1 - 1 - 0 - \n",
      "1 - 1 - 1 - 1 - \n",
      "0 - 0 - 1 - 1 - \n",
      "0 - 1 - 0 - 1 - \n",
      "1 - 1 - 1 - 0 - \n",
      "region3, parity=1\n",
      "0 0 0 0 1 0 0 0 \n",
      "- - - - - - - - \n",
      "0 1 0 1 1 1 0 0 \n",
      "- - - - - - - - \n",
      "1 1 1 1 1 1 1 1 \n",
      "- - - - - - - - \n",
      "0 0 1 0 0 1 1 1 \n",
      "- - - - - - - - \n"
     ]
    }
   ],
   "source": [
    "B.flip_coin(0,0)\n",
    "B.show_region(0,0)\n",
    "B.show_region(3,0)"
   ]
  },
  {
   "cell_type": "markdown",
   "metadata": {},
   "source": [
    "## Strategy\n",
    "With the above in mind it is now possible to devise a strategy for both encoding and decoding that will allow us to beat the jailer 100% of the time no matter what actions they take."
   ]
  },
  {
   "cell_type": "markdown",
   "metadata": {},
   "source": [
    "### Encoding strategy for p1 (the flipper)\n",
    "0. Create a list of regions called R. \n",
    "1. Check each (region, side) pair defined in the strategy to see if the key square is in that region, and compute the parity of each normal region, e.g. (0,0), (1,0), ..., by sum(number of heads in region)mod2. If the number of heads in the region is even the parity should be 0, and 1 otherwise. We will call 0 even parity and 1 odd parity. If the key square is in the noraml region go to 2, else go to 3.\n",
    "2. We are in the normal region. Check the parity of the normal region against the parity in the strategy. If the parity matches do nothing and go to 4, else go to 5.\n",
    "3. We are in the dual region. Check the parity of the normal region against the dual of the parity in the strategy e.g. (~parity)mod2 which maps 0->1, 1->0. If the parity matches the dual parity do nothing and go to 4, else go to 5.\n",
    "4. The parity of the normal region is correctly identifying that the key square is in the either the normal region or the dual depending on whether it is even or odd respectively. So we need to make the change to the dual region to avoid changing the parity of the normal region, add the dual region to the list R. If more (region, side) pairs need to be checked return to 1. Else go to 6.\n",
    "5. The parity of the normal region is not correctly identifying that the key square is in the either the normal region or the dual depending on whether it is even or odd respectively. So we need to make the change to the normal region, add the normal region to the list R. If more (region, side) pairs need to be checked return to 1. Else go to 6.\n",
    "6. The list R should now contain 6 elements; each being either a normal region or a dual region. Compute the intersection of all of the regions in the list R, the result should be a single square. This is the square you flip."
   ]
  },
  {
   "cell_type": "markdown",
   "metadata": {},
   "source": [
    "### Decoding strategy for p2 (the finder)\n",
    "0. Create a list of regions called R.\n",
    "1. Compute the parity of each normal region. If the parity is even go to 2, else 3.\n",
    "2. The parity of the normal region is even which indicates that the key square is in that normal region. Add the normal region to the list R. If more regions remain to check return to 1 else go to 4.\n",
    "3. The parity of the normal region is odd which indicates that the key square is in the dual of that region, e.g. (0,0) having a parity of 1 indicates that the key is in (0, 1). Add the dual region to the list R. If more regions remain to check return to 1 else go to 4.\n",
    "4. The list R should now contain 6 elements; each being either a normal region or a dual region. Compute the intersection of all of the regions in the list R, the result should be a single square. This is the key square."
   ]
  }
 ],
 "metadata": {
  "interpreter": {
   "hash": "79aaeb94e518099389d4852fe724a70eedecead5aeb4b48b5ed4ef8c0353f66c"
  },
  "kernelspec": {
   "display_name": "Python 3.8.10 ('chessboard_coin_venv': venv)",
   "language": "python",
   "name": "python3"
  },
  "language_info": {
   "codemirror_mode": {
    "name": "ipython",
    "version": 3
   },
   "file_extension": ".py",
   "mimetype": "text/x-python",
   "name": "python",
   "nbconvert_exporter": "python",
   "pygments_lexer": "ipython3",
   "version": "3.8.10"
  },
  "orig_nbformat": 4
 },
 "nbformat": 4,
 "nbformat_minor": 2
}
